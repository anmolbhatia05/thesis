{
 "cells": [
  {
   "cell_type": "code",
   "execution_count": 1,
   "metadata": {},
   "outputs": [
    {
     "name": "stdout",
     "output_type": "stream",
     "text": [
      "env: ANYWIDGET_HMR=1\n"
     ]
    }
   ],
   "source": [
    "%env ANYWIDGET_HMR=1"
   ]
  },
  {
   "cell_type": "code",
   "execution_count": 2,
   "metadata": {},
   "outputs": [],
   "source": [
    "from glotaran.io import load_model,load_parameters\n",
    "\n",
    "params = load_parameters(\"target_rcg_gcrcg_rcgcr_refine-params.yml\")\n",
    "model = load_model(\"target_rcg_gcrcg_rcgcr_refine.yml\")"
   ]
  },
  {
   "cell_type": "code",
   "execution_count": 5,
   "metadata": {},
   "outputs": [],
   "source": [
    "from kineticschemevisualizer import GraphWidget,VisualizationOptions\n",
    "\n",
    "vis_ops = VisualizationOptions(\n",
    "    colour_node_mapping={\n",
    "        \"red\": [\"rcg_r1\"],\n",
    "        \"blue\": [\"gcrcg_r1\"],\n",
    "        \"green\": [\"rcgcr_r1\"]\n",
    "    },\n",
    ")"
   ]
  },
  {
   "cell_type": "code",
   "execution_count": 6,
   "metadata": {},
   "outputs": [
    {
     "data": {
      "application/vnd.jupyter.widget-view+json": {
       "model_id": "700bc7be80604d2d854ae43305c3034f",
       "version_major": 2,
       "version_minor": 1
      },
      "text/plain": [
       "GraphWidget(graph_data={'data': [], 'directed': True, 'multigraph': False, 'elements': {'nodes': [{'data': {'i…"
      ]
     },
     "execution_count": 6,
     "metadata": {},
     "output_type": "execute_result"
    }
   ],
   "source": [
    "from kineticschemevisualizer import visualize_megacomplex\n",
    "\n",
    "visualize_megacomplex([\n",
    "        \"complex_rcg_dcm\",\n",
    "        \"complex_gcrcg_dcm\",\n",
    "        \"complex_rcgcr_dcm\",\n",
    "    ],\n",
    "    model,\n",
    "    params,\n",
    "    vis_ops\n",
    ")"
   ]
  }
 ],
 "metadata": {
  "kernelspec": {
   "display_name": "Python 3 (ipykernel)",
   "language": "python",
   "name": "python3"
  },
  "language_info": {
   "codemirror_mode": {
    "name": "ipython",
    "version": 3
   },
   "file_extension": ".py",
   "mimetype": "text/x-python",
   "name": "python",
   "nbconvert_exporter": "python",
   "pygments_lexer": "ipython3",
   "version": "3.10.14"
  }
 },
 "nbformat": 4,
 "nbformat_minor": 4
}
