{
 "cells": [
  {
   "cell_type": "code",
   "execution_count": 1,
   "id": "fc0e4326-2ecd-42ed-91ad-745580eafc96",
   "metadata": {},
   "outputs": [],
   "source": [
    "import yaml"
   ]
  },
  {
   "cell_type": "code",
   "execution_count": 2,
   "id": "94cc0118-7c3c-45bc-b5b0-914954e1c800",
   "metadata": {},
   "outputs": [],
   "source": [
    "with open('test_files/correct.yaml', 'r') as file:\n",
    "    data = yaml.safe_load(file)"
   ]
  },
  {
   "cell_type": "code",
   "execution_count": 3,
   "id": "c624b092-999e-42ac-9c8c-c63c0e908249",
   "metadata": {},
   "outputs": [
    {
     "name": "stdout",
     "output_type": "stream",
     "text": [
      "{'name': 'John Doe', 'age': 30, 'address': {'street': '123 Main St', 'city': 'Anytown', 'state': 'CA'}, 'skills': ['programming', 'data science', 'machine learning']}\n"
     ]
    }
   ],
   "source": [
    "print(data)"
   ]
  },
  {
   "cell_type": "code",
   "execution_count": 5,
   "id": "c7a8ace3-81ce-4b20-a014-77238d06f83a",
   "metadata": {
    "scrolled": true
   },
   "outputs": [],
   "source": [
    "with open('test_files/broken.yaml', 'r') as file:\n",
    "    data_broken = yaml.safe_load(file)"
   ]
  },
  {
   "cell_type": "code",
   "execution_count": 6,
   "id": "ed756372-b08d-4022-8460-a8f212cbc274",
   "metadata": {},
   "outputs": [
    {
     "name": "stdout",
     "output_type": "stream",
     "text": [
      "{'name': 'John Doe', 'age': 30, 'address': {'street': '123 Main St', 'city': 'Anytown', 'state': 'CA'}, 'skills': ['programming', 'data science', 'machine learning']}\n"
     ]
    }
   ],
   "source": [
    "print(data_broken)"
   ]
  },
  {
   "cell_type": "code",
   "execution_count": null,
   "id": "03c05079-4aac-4478-a9c8-ef3cf73bba23",
   "metadata": {},
   "outputs": [],
   "source": []
  }
 ],
 "metadata": {
  "kernelspec": {
   "display_name": "Python 3 (ipykernel)",
   "language": "python",
   "name": "python3"
  },
  "language_info": {
   "codemirror_mode": {
    "name": "ipython",
    "version": 3
   },
   "file_extension": ".py",
   "mimetype": "text/x-python",
   "name": "python",
   "nbconvert_exporter": "python",
   "pygments_lexer": "ipython3",
   "version": "3.10.13"
  }
 },
 "nbformat": 4,
 "nbformat_minor": 5
}
