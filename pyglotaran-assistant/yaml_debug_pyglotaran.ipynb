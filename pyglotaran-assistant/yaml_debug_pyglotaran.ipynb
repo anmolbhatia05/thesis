{
 "cells": [
  {
   "cell_type": "code",
   "execution_count": 3,
   "id": "fc0e4326-2ecd-42ed-91ad-745580eafc96",
   "metadata": {},
   "outputs": [],
   "source": [
    "from glotaran.io import load_model"
   ]
  },
  {
   "cell_type": "code",
   "execution_count": 4,
   "id": "94cc0118-7c3c-45bc-b5b0-914954e1c800",
   "metadata": {},
   "outputs": [],
   "source": [
    "model = load_model(\"test_files/broken_kin_model.yaml\")"
   ]
  },
  {
   "cell_type": "code",
   "execution_count": null,
   "id": "03c05079-4aac-4478-a9c8-ef3cf73bba23",
   "metadata": {},
   "outputs": [],
   "source": []
  }
 ],
 "metadata": {
  "kernelspec": {
   "display_name": "Python 3 (ipykernel)",
   "language": "python",
   "name": "python3"
  },
  "language_info": {
   "codemirror_mode": {
    "name": "ipython",
    "version": 3
   },
   "file_extension": ".py",
   "mimetype": "text/x-python",
   "name": "python",
   "nbconvert_exporter": "python",
   "pygments_lexer": "ipython3",
   "version": "3.10.13"
  }
 },
 "nbformat": 4,
 "nbformat_minor": 5
}
